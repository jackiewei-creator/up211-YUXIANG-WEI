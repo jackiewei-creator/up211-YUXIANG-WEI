{
 "cells": [
  {
   "cell_type": "markdown",
   "id": "79703a53-0f39-466f-afbf-72c390da142a",
   "metadata": {},
   "source": [
    "# Week 2 data exploration \n",
    "## Yuxiang Wei\n",
    "the goal of this lab is to..."
   ]
  },
  {
   "cell_type": "code",
   "execution_count": null,
   "id": "ccbd526d-a9fb-4f44-9988-0ee00833930c",
   "metadata": {},
   "outputs": [],
   "source": []
  }
 ],
 "metadata": {
  "kernelspec": {
   "display_name": "Python 3 (ipykernel)",
   "language": "python",
   "name": "python3"
  },
  "language_info": {
   "codemirror_mode": {
    "name": "ipython",
    "version": 3
   },
   "file_extension": ".py",
   "mimetype": "text/x-python",
   "name": "python",
   "nbconvert_exporter": "python",
   "pygments_lexer": "ipython3",
   "version": "3.11.9"
  }
 },
 "nbformat": 4,
 "nbformat_minor": 5
}
